{
 "cells": [
  {
   "cell_type": "markdown",
   "metadata": {
    "collapsed": false
   },
   "source": [
    "# Investigating Stability\n",
    "\n",
    "1. Determine whether or not the system provided is intrinsically stable (HINT: Check the eigenvalues of A - they should all have magnitude less than one for strict stability)\n",
    "\n",
    "2. Run the controller below for different values of N and R to determine whether or not the state trajectories converge to the origin.  Create a loop, where you test values of R between 0 and 10, and values of N between 1 and 20 and look at the final trajectory point to determine convergence/divergence.  Plot a grid of the stable configurations, and comment on the resulting plot.  Is the stable region convex?\n",
    "\n",
    "3. Assume a terminal controller of the form u = [-1 -0.5] x. Solve the Lyapunov equation  A^T P A - P = -Q - K^T R K.  Use the numpy scipy.linalg.solve_discrete_lyapunov to find a value of P that guarantees stability, for R = 1."
   ]
  },
  {
   "cell_type": "code",
   "execution_count": 10,
   "metadata": {
    "collapsed": false
   },
   "outputs": [
   ],
   "source": [
    "# MPC Controller Example\n",
    "\n",
    "import numpy as np\n",
    "import cvxpy as cvx\n",
    "\n",
    "# System model - double integrator\n",
    "A = np.matrix('1.216, -0.055; 0.221, 0.9947')\n",
    "B = np.matrix('0.02763;0.002763')\n",
    "\n",
    "# Prediction Horizon\n",
    "N = 50\n",
    "\n",
    "# Inputs and states\n",
    "nx = 2; nu = 1;\n",
    "\n",
    "X = cvx.Variable(nx,N+1)\n",
    "U = cvx.Variable(nu,N)\n",
    "\n",
    "# Constraints\n",
    "maxU = 100\n",
    "\n",
    "# Cost function matrices\n",
    "P = np.identity(2); Q = np.identity(2); R = 0.5\n",
    "\n",
    "# Initial state as a parameter\n",
    "x_param = cvx.Parameter(nx,1)\n",
    "\n",
    "# Objective function and constraints\n",
    "obj = cvx.Minimize(sum([cvx.quad_form(X[:,i],Q) for i in range(0,N)])\n",
    "                   + sum([cvx.quad_form(U[:,i],R) for i in range(0,N)])\n",
    "                   + cvx.quad_form(X[:,N],P))\n",
    "\n",
    "con = [X[:,0] == x_param] # Parameterized initial state\n",
    "con += [X[:,1:N+1] == A*X[:,0:N] + B*U[:,0:N]]\n",
    "con += [-maxU <= U, U <= maxU]\n",
    "\n",
    "problem = cvx.Problem(obj,con)\n",
    "\n",
    "# Controller\n",
    "def controller(x):\n",
    "    x_param.value = x\n",
    "    problem.solve()\n",
    "    return U[:,0].value"
   ]
  },
  {
   "cell_type": "code",
   "execution_count": 11,
   "metadata": {
    "collapsed": false
   },
   "outputs": [
    {
     "data": {
      "image/png": "[encoded data removed]"
     },
     "execution_count": 11,
     "metadata": {
     },
     "output_type": "execute_result"
    }
   ],
   "source": [
    "import matplotlib.pyplot as plt\n",
    "\n",
    "# Simulation Parameters\n",
    "steps = 50\n",
    "states = np.matrix(np.zeros([nx,steps+1]))\n",
    "inputs = np.matrix(np.zeros([nu,steps]))\n",
    "\n",
    "# Numerical value for initial state\n",
    "x0= np.matrix('1;1')\n",
    "states[:,0] = x0\n",
    "\n",
    "for k in range(0,steps):\n",
    "    inputs[:,k] = controller(states[:,k])\n",
    "    states[:,k+1] = A*states[:,k] + B*inputs[:,k]\n",
    "\n",
    "plt.figure()\n",
    "plt.plot(x0[0],x0[1],'r*')\n",
    "plt.plot(states[0,:].T,states[1,:].T)\n",
    "plt.show()"
   ]
  },
  {
   "cell_type": "markdown",
   "metadata": {
    "collapsed": false
   },
   "source": [
   ]
  }
 ],
 "metadata": {
  "kernelspec": {
   "display_name": "Python 3 (Ubuntu Linux)",
   "language": "python",
   "name": "python3"
  },
  "language_info": {
   "codemirror_mode": {
    "name": "ipython",
    "version": 3
   },
   "file_extension": ".py",
   "mimetype": "text/x-python",
   "name": "python",
   "nbconvert_exporter": "python",
   "pygments_lexer": "ipython3",
   "version": "3.5.2"
  }
 },
 "nbformat": 4,
 "nbformat_minor": 0
}